{
 "cells": [
  {
   "cell_type": "code",
   "execution_count": null,
   "metadata": {},
   "outputs": [],
   "source": [
    "# %% [markdown]\n",
    "# # MeetMogger AI - Sentiment Analysis Demo\n",
    "# \n",
    "# This notebook demonstrates the sentiment analysis and insight extraction functionality.\n",
    "\n",
    "# %%\n",
    "import sys\n",
    "import os\n",
    "sys.path.append(os.path.join(os.path.dirname(os.getcwd()), 'scripts'))\n",
    "\n",
    "from sentiment import analyze_sentiment\n",
    "from extractor import extract_insights\n",
    "\n",
    "# %%\n",
    "# Sample transcript\n",
    "transcript = \"\"\"\n",
    "During our call with the vendor, we discussed several issues. \n",
    "The main problem is delayed shipments, which is affecting our inventory levels.\n",
    "Another concern is the quality control issues we've been seeing in recent batches.\n",
    "As a solution, we proposed implementing a new tracking system.\n",
    "The vendor agreed to provide weekly updates.\n",
    "Our next step is to schedule a follow-up meeting next week.\n",
    "\"\"\"\n",
    "\n",
    "# %%\n",
    "# Analyze sentiment\n",
    "sentiment = analyze_sentiment(transcript)\n",
    "print(f\"Overall Sentiment: {sentiment['overall']} (Score: {sentiment['score']:.2f})\")\n",
    "\n",
    "# %%\n",
    "# Extract insights\n",
    "insights = extract_insights(transcript)\n",
    "print(\"\\nProblems:\")\n",
    "for i, problem in enumerate(insights['problems'], 1):\n",
    "    print(f\"{i}. {problem}\")\n",
    "\n",
    "print(\"\\nSolutions:\")\n",
    "for i, solution in enumerate(insights['solutions'], 1):\n",
    "    print(f\"{i}. {solution}\")\n",
    "\n",
    "print(\"\\nAction Items:\")\n",
    "for i, action in enumerate(insights['action_items'], 1):\n",
    "    print(f\"{i}. {action}\")"
   ]
  }
 ],
 "metadata": {
  "kernelspec": {
   "display_name": "Python 3",
   "language": "python",
   "name": "python3"
  },
  "language_info": {
   "codemirror_mode": {
    "name": "ipython",
    "version": 3
   },
   "file_extension": ".py",
   "mimetype": "text/x-python",
   "name": "python",
   "nbconvert_exporter": "python",
   "pygments_lexer": "ipython3",
   "version": "3.8.10"
  }
 },
 "nbformat": 4,
 "nbformat_minor": 4
}
